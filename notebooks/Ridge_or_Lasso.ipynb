{
 "cells": [
  {
   "cell_type": "code",
   "execution_count": 148,
   "metadata": {},
   "outputs": [],
   "source": [
    "import pandas as pd\n",
    "import numpy as np\n",
    "import matplotlib.pyplot as plt"
   ]
  },
  {
   "cell_type": "code",
   "execution_count": 149,
   "metadata": {},
   "outputs": [],
   "source": [
    "path = 'Reorgnized_RB.csv'\n",
    "Russell_data = pd.read_csv(path)"
   ]
  },
  {
   "cell_type": "markdown",
   "metadata": {},
   "source": [
    "# Feature engineering"
   ]
  },
  {
   "cell_type": "code",
   "execution_count": 150,
   "metadata": {},
   "outputs": [
    {
     "data": {
      "text/html": [
       "<div>\n",
       "<style scoped>\n",
       "    .dataframe tbody tr th:only-of-type {\n",
       "        vertical-align: middle;\n",
       "    }\n",
       "\n",
       "    .dataframe tbody tr th {\n",
       "        vertical-align: top;\n",
       "    }\n",
       "\n",
       "    .dataframe thead th {\n",
       "        text-align: right;\n",
       "    }\n",
       "</style>\n",
       "<table border=\"1\" class=\"dataframe\">\n",
       "  <thead>\n",
       "    <tr style=\"text-align: right;\">\n",
       "      <th></th>\n",
       "      <th>Min</th>\n",
       "      <th>FGM</th>\n",
       "      <th>FGA</th>\n",
       "      <th>FG%</th>\n",
       "      <th>3PM</th>\n",
       "      <th>3PA</th>\n",
       "      <th>3P%</th>\n",
       "      <th>FTM</th>\n",
       "      <th>FTA</th>\n",
       "      <th>FT%</th>\n",
       "      <th>...</th>\n",
       "      <th>Thursday</th>\n",
       "      <th>Tuesday</th>\n",
       "      <th>Wednesday</th>\n",
       "      <th>HOU</th>\n",
       "      <th>LAC</th>\n",
       "      <th>LAL</th>\n",
       "      <th>OKC</th>\n",
       "      <th>WAS</th>\n",
       "      <th>Playoff</th>\n",
       "      <th>Regular</th>\n",
       "    </tr>\n",
       "  </thead>\n",
       "  <tbody>\n",
       "    <tr>\n",
       "      <th>0</th>\n",
       "      <td>22.0</td>\n",
       "      <td>4.0</td>\n",
       "      <td>9.0</td>\n",
       "      <td>44.4</td>\n",
       "      <td>1.0</td>\n",
       "      <td>2.0</td>\n",
       "      <td>50.0</td>\n",
       "      <td>4.0</td>\n",
       "      <td>6.0</td>\n",
       "      <td>66.7</td>\n",
       "      <td>...</td>\n",
       "      <td>0</td>\n",
       "      <td>0</td>\n",
       "      <td>1</td>\n",
       "      <td>0</td>\n",
       "      <td>0</td>\n",
       "      <td>0</td>\n",
       "      <td>1</td>\n",
       "      <td>0</td>\n",
       "      <td>0</td>\n",
       "      <td>1</td>\n",
       "    </tr>\n",
       "    <tr>\n",
       "      <th>1</th>\n",
       "      <td>19.0</td>\n",
       "      <td>2.0</td>\n",
       "      <td>7.0</td>\n",
       "      <td>28.6</td>\n",
       "      <td>0.0</td>\n",
       "      <td>1.0</td>\n",
       "      <td>0.0</td>\n",
       "      <td>2.0</td>\n",
       "      <td>2.0</td>\n",
       "      <td>100.0</td>\n",
       "      <td>...</td>\n",
       "      <td>0</td>\n",
       "      <td>0</td>\n",
       "      <td>0</td>\n",
       "      <td>0</td>\n",
       "      <td>0</td>\n",
       "      <td>0</td>\n",
       "      <td>1</td>\n",
       "      <td>0</td>\n",
       "      <td>0</td>\n",
       "      <td>1</td>\n",
       "    </tr>\n",
       "    <tr>\n",
       "      <th>2</th>\n",
       "      <td>25.0</td>\n",
       "      <td>6.0</td>\n",
       "      <td>13.0</td>\n",
       "      <td>46.2</td>\n",
       "      <td>0.0</td>\n",
       "      <td>1.0</td>\n",
       "      <td>0.0</td>\n",
       "      <td>2.0</td>\n",
       "      <td>3.0</td>\n",
       "      <td>66.7</td>\n",
       "      <td>...</td>\n",
       "      <td>0</td>\n",
       "      <td>0</td>\n",
       "      <td>0</td>\n",
       "      <td>0</td>\n",
       "      <td>0</td>\n",
       "      <td>0</td>\n",
       "      <td>1</td>\n",
       "      <td>0</td>\n",
       "      <td>0</td>\n",
       "      <td>1</td>\n",
       "    </tr>\n",
       "    <tr>\n",
       "      <th>3</th>\n",
       "      <td>19.0</td>\n",
       "      <td>4.0</td>\n",
       "      <td>13.0</td>\n",
       "      <td>30.8</td>\n",
       "      <td>3.0</td>\n",
       "      <td>5.0</td>\n",
       "      <td>60.0</td>\n",
       "      <td>2.0</td>\n",
       "      <td>2.0</td>\n",
       "      <td>100.0</td>\n",
       "      <td>...</td>\n",
       "      <td>0</td>\n",
       "      <td>0</td>\n",
       "      <td>1</td>\n",
       "      <td>0</td>\n",
       "      <td>0</td>\n",
       "      <td>0</td>\n",
       "      <td>1</td>\n",
       "      <td>0</td>\n",
       "      <td>0</td>\n",
       "      <td>1</td>\n",
       "    </tr>\n",
       "    <tr>\n",
       "      <th>4</th>\n",
       "      <td>17.0</td>\n",
       "      <td>1.0</td>\n",
       "      <td>8.0</td>\n",
       "      <td>12.5</td>\n",
       "      <td>0.0</td>\n",
       "      <td>0.0</td>\n",
       "      <td>0.0</td>\n",
       "      <td>4.0</td>\n",
       "      <td>4.0</td>\n",
       "      <td>100.0</td>\n",
       "      <td>...</td>\n",
       "      <td>0</td>\n",
       "      <td>0</td>\n",
       "      <td>0</td>\n",
       "      <td>0</td>\n",
       "      <td>0</td>\n",
       "      <td>0</td>\n",
       "      <td>1</td>\n",
       "      <td>0</td>\n",
       "      <td>0</td>\n",
       "      <td>1</td>\n",
       "    </tr>\n",
       "  </tbody>\n",
       "</table>\n",
       "<p>5 rows × 37 columns</p>\n",
       "</div>"
      ],
      "text/plain": [
       "    Min  FGM   FGA   FG%  3PM  3PA   3P%  FTM  FTA    FT%  ...  Thursday  \\\n",
       "0  22.0  4.0   9.0  44.4  1.0  2.0  50.0  4.0  6.0   66.7  ...         0   \n",
       "1  19.0  2.0   7.0  28.6  0.0  1.0   0.0  2.0  2.0  100.0  ...         0   \n",
       "2  25.0  6.0  13.0  46.2  0.0  1.0   0.0  2.0  3.0   66.7  ...         0   \n",
       "3  19.0  4.0  13.0  30.8  3.0  5.0  60.0  2.0  2.0  100.0  ...         0   \n",
       "4  17.0  1.0   8.0  12.5  0.0  0.0   0.0  4.0  4.0  100.0  ...         0   \n",
       "\n",
       "   Tuesday  Wednesday  HOU  LAC  LAL  OKC  WAS  Playoff  Regular  \n",
       "0        0          1    0    0    0    1    0        0        1  \n",
       "1        0          0    0    0    0    1    0        0        1  \n",
       "2        0          0    0    0    0    1    0        0        1  \n",
       "3        0          1    0    0    0    1    0        0        1  \n",
       "4        0          0    0    0    0    1    0        0        1  \n",
       "\n",
       "[5 rows x 37 columns]"
      ]
     },
     "execution_count": 150,
     "metadata": {},
     "output_type": "execute_result"
    }
   ],
   "source": [
    "from math import sqrt\n",
    "\n",
    "# All of the features of interest\n",
    "selected_inputs = [\n",
    "    \"Min\",\n",
    "    \"FGM\",\n",
    "    \"FGA\",\n",
    "    \"FG%\",\n",
    "    \"3PM\",\n",
    "    \"3PA\",\n",
    "    \"3P%\",\n",
    "    \"FTM\",\n",
    "    \"FTA\",\n",
    "    \"FT%\",\n",
    "    \"OREB\",\n",
    "    \"DREB\",\n",
    "    \"REB\",\n",
    "    \"AST\",\n",
    "    \"STL\",\n",
    "    \"BLK\",\n",
    "    \"TOV\",\n",
    "    \"PF\",\n",
    "    #\"+/-\",\n",
    "    \"Year\",\n",
    "    \"Team score\",\n",
    "    \"Season\",\n",
    "    'Lose',\n",
    "    'Win',\n",
    "    'Friday',\n",
    "    'Monday',\n",
    "    'Saturday',\n",
    "    'Sunday',\n",
    "    'Thursday',\n",
    "    'Tuesday',\n",
    "    'Wednesday',\n",
    "    'HOU',\n",
    "    'LAC',\n",
    "    'LAL',\n",
    "    'OKC',\n",
    "    'WAS',\n",
    "    'Playoff',\n",
    "    'Regular'\n",
    "]\n",
    "\n",
    "\n",
    "all_features = []\n",
    "for feature_name in selected_inputs:\n",
    "    \n",
    "    squared_feature_name = feature_name + '_square'\n",
    "    sqrt_feature_name = feature_name + '_sqrt'\n",
    "    \n",
    "    # compute the square of the column feature_name, add it to performance as a \n",
    "    # new column, squared_feature_name\n",
    "    Russell_data[squared_feature_name] = Russell_data[feature_name] ** 2\n",
    "    \n",
    "    # compute the sqrt of the column feature_name, add it to performance as a\n",
    "    # new column, sqrt_feature_name\n",
    "    Russell_data[sqrt_feature_name] = Russell_data[feature_name] ** 0.5\n",
    "\n",
    "    # Add the feature names to all_features\n",
    "    all_features.extend([feature_name, squared_feature_name, sqrt_feature_name])\n",
    "    \n",
    "# Split the data into features and score\n",
    "score = Russell_data[\"PTS\"]\n",
    "performance = Russell_data[all_features]\n",
    "\n",
    "performance.head()"
   ]
  },
  {
   "cell_type": "code",
   "execution_count": 151,
   "metadata": {},
   "outputs": [
    {
     "name": "stdout",
     "output_type": "stream",
     "text": [
      "The DataFrame contains 0 NaN values.\n",
      "The DataFrame contains 0 infinite values.\n",
      "The DataFrame contains 0 values too large for float64.\n"
     ]
    }
   ],
   "source": [
    "nan_values = performance.isnull().sum().sum()\n",
    "print(f\"The DataFrame contains {nan_values} NaN values.\")\n",
    "\n",
    "# Check for infinity\n",
    "inf_values = np.isinf(performance.values).sum()\n",
    "print(f\"The DataFrame contains {inf_values} infinite values.\")\n",
    "\n",
    "# Check for values too large for float64\n",
    "# Note: This is a bit tricky because \"too large\" depends on the context and the scale of your data.\n",
    "# float64 can represent numbers as large as ~1.8e308, which is usually large enough for most datasets.\n",
    "# If you have domain-specific limits for your data, you should check against those.\n",
    "# Here we check for values that are beyond the maximum representable float64 value.\n",
    "too_large_values = (performance.values > np.finfo(np.float64).max).sum()\n",
    "print(f\"The DataFrame contains {too_large_values} values too large for float64.\")"
   ]
  },
  {
   "cell_type": "markdown",
   "metadata": {},
   "source": [
    "# Split data"
   ]
  },
  {
   "cell_type": "code",
   "execution_count": 152,
   "metadata": {},
   "outputs": [],
   "source": [
    "from sklearn.model_selection import train_test_split\n",
    "\n",
    "performance_train_data, val_test_data,score_train, score_val_test = train_test_split(performance,score, test_size=0.3)\n",
    "performance_val_data, performance_test_data, score_val, score_test = train_test_split(val_test_data,score_val_test, test_size= 0.5)"
   ]
  },
  {
   "cell_type": "markdown",
   "metadata": {},
   "source": [
    "# Standardization"
   ]
  },
  {
   "cell_type": "code",
   "execution_count": 153,
   "metadata": {},
   "outputs": [],
   "source": [
    "from sklearn.preprocessing import StandardScaler\n",
    "\n",
    "standardized = StandardScaler().fit(performance_train_data)\n",
    "performance_train_data_standardized = standardized.transform(performance_train_data)\n",
    "performance_val_data_standardized = standardized.transform(performance_val_data)\n",
    "performance_test_data_standardized = standardized.transform(performance_test_data)"
   ]
  },
  {
   "cell_type": "markdown",
   "metadata": {},
   "source": [
    "# (1)Linear Regerssion"
   ]
  },
  {
   "cell_type": "code",
   "execution_count": 154,
   "metadata": {},
   "outputs": [
    {
     "name": "stdout",
     "output_type": "stream",
     "text": [
      "Test RMSE 6.107182452508465e-15\n"
     ]
    }
   ],
   "source": [
    "from sklearn.linear_model import LinearRegression\n",
    "from sklearn.metrics import mean_squared_error\n",
    "\n",
    "\n",
    "model = LinearRegression()\n",
    "model.fit(performance_train_data_standardized, score_train)\n",
    "test_predict = model.predict(performance_test_data_standardized)\n",
    "rmse_test_unregularized = mean_squared_error(score_test, test_predict, squared=False)\n",
    "print(\"Test RMSE\", rmse_test_unregularized)\n"
   ]
  },
  {
   "cell_type": "markdown",
   "metadata": {},
   "source": [
    "# (2) Ridge Regression"
   ]
  },
  {
   "cell_type": "code",
   "execution_count": 155,
   "metadata": {},
   "outputs": [
    {
     "data": {
      "text/html": [
       "<div>\n",
       "<style scoped>\n",
       "    .dataframe tbody tr th:only-of-type {\n",
       "        vertical-align: middle;\n",
       "    }\n",
       "\n",
       "    .dataframe tbody tr th {\n",
       "        vertical-align: top;\n",
       "    }\n",
       "\n",
       "    .dataframe thead th {\n",
       "        text-align: right;\n",
       "    }\n",
       "</style>\n",
       "<table border=\"1\" class=\"dataframe\">\n",
       "  <thead>\n",
       "    <tr style=\"text-align: right;\">\n",
       "      <th></th>\n",
       "      <th>l2_penalty</th>\n",
       "      <th>model</th>\n",
       "      <th>rmse_train</th>\n",
       "      <th>rmse_validation</th>\n",
       "    </tr>\n",
       "  </thead>\n",
       "  <tbody>\n",
       "    <tr>\n",
       "      <th>0</th>\n",
       "      <td>0.00001</td>\n",
       "      <td>Ridge(alpha=1e-05)</td>\n",
       "      <td>4.218395e-07</td>\n",
       "      <td>4.569926e-07</td>\n",
       "    </tr>\n",
       "    <tr>\n",
       "      <th>1</th>\n",
       "      <td>0.00010</td>\n",
       "      <td>Ridge(alpha=0.0001)</td>\n",
       "      <td>4.218374e-06</td>\n",
       "      <td>4.569904e-06</td>\n",
       "    </tr>\n",
       "    <tr>\n",
       "      <th>2</th>\n",
       "      <td>0.00100</td>\n",
       "      <td>Ridge(alpha=0.001)</td>\n",
       "      <td>4.218166e-05</td>\n",
       "      <td>4.569686e-05</td>\n",
       "    </tr>\n",
       "    <tr>\n",
       "      <th>3</th>\n",
       "      <td>0.01000</td>\n",
       "      <td>Ridge(alpha=0.01)</td>\n",
       "      <td>4.216089e-04</td>\n",
       "      <td>4.567511e-04</td>\n",
       "    </tr>\n",
       "    <tr>\n",
       "      <th>4</th>\n",
       "      <td>0.10000</td>\n",
       "      <td>Ridge(alpha=0.1)</td>\n",
       "      <td>4.195443e-03</td>\n",
       "      <td>4.545879e-03</td>\n",
       "    </tr>\n",
       "    <tr>\n",
       "      <th>5</th>\n",
       "      <td>1.00000</td>\n",
       "      <td>Ridge()</td>\n",
       "      <td>4.000397e-02</td>\n",
       "      <td>4.341095e-02</td>\n",
       "    </tr>\n",
       "    <tr>\n",
       "      <th>6</th>\n",
       "      <td>10.00000</td>\n",
       "      <td>Ridge(alpha=10.0)</td>\n",
       "      <td>2.761600e-01</td>\n",
       "      <td>3.028104e-01</td>\n",
       "    </tr>\n",
       "    <tr>\n",
       "      <th>7</th>\n",
       "      <td>100.00000</td>\n",
       "      <td>Ridge(alpha=100.0)</td>\n",
       "      <td>8.355083e-01</td>\n",
       "      <td>9.470823e-01</td>\n",
       "    </tr>\n",
       "    <tr>\n",
       "      <th>8</th>\n",
       "      <td>1000.00000</td>\n",
       "      <td>Ridge(alpha=1000.0)</td>\n",
       "      <td>2.713678e+00</td>\n",
       "      <td>2.975536e+00</td>\n",
       "    </tr>\n",
       "    <tr>\n",
       "      <th>9</th>\n",
       "      <td>10000.00000</td>\n",
       "      <td>Ridge(alpha=10000.0)</td>\n",
       "      <td>6.866140e+00</td>\n",
       "      <td>7.356336e+00</td>\n",
       "    </tr>\n",
       "    <tr>\n",
       "      <th>10</th>\n",
       "      <td>100000.00000</td>\n",
       "      <td>Ridge(alpha=100000.0)</td>\n",
       "      <td>8.640201e+00</td>\n",
       "      <td>9.259491e+00</td>\n",
       "    </tr>\n",
       "  </tbody>\n",
       "</table>\n",
       "</div>"
      ],
      "text/plain": [
       "      l2_penalty                  model    rmse_train  rmse_validation\n",
       "0        0.00001     Ridge(alpha=1e-05)  4.218395e-07     4.569926e-07\n",
       "1        0.00010    Ridge(alpha=0.0001)  4.218374e-06     4.569904e-06\n",
       "2        0.00100     Ridge(alpha=0.001)  4.218166e-05     4.569686e-05\n",
       "3        0.01000      Ridge(alpha=0.01)  4.216089e-04     4.567511e-04\n",
       "4        0.10000       Ridge(alpha=0.1)  4.195443e-03     4.545879e-03\n",
       "5        1.00000                Ridge()  4.000397e-02     4.341095e-02\n",
       "6       10.00000      Ridge(alpha=10.0)  2.761600e-01     3.028104e-01\n",
       "7      100.00000     Ridge(alpha=100.0)  8.355083e-01     9.470823e-01\n",
       "8     1000.00000    Ridge(alpha=1000.0)  2.713678e+00     2.975536e+00\n",
       "9    10000.00000   Ridge(alpha=10000.0)  6.866140e+00     7.356336e+00\n",
       "10  100000.00000  Ridge(alpha=100000.0)  8.640201e+00     9.259491e+00"
      ]
     },
     "execution_count": 155,
     "metadata": {},
     "output_type": "execute_result"
    }
   ],
   "source": [
    "from sklearn.linear_model import Ridge\n",
    "\n",
    "l2_lambdas = np.logspace(-5, 5, 11, base = 10)\n",
    "\n",
    "ridge_data = []\n",
    "for i in l2_lambdas:\n",
    "  ridge_model = Ridge(alpha=i)\n",
    "  ridge_model.fit(performance_train_data_standardized, score_train)\n",
    "  predictions_train = ridge_model.predict(performance_train_data_standardized)\n",
    "  predictions_validation = ridge_model.predict(performance_val_data_standardized)\n",
    "  ridge_data.append({\n",
    "        'l2_penalty': i,\n",
    "        'model':ridge_model,\n",
    "        'rmse_train':mean_squared_error(predictions_train, score_train, squared=False),\n",
    "        'rmse_validation':mean_squared_error(predictions_validation, score_val, squared=False)\n",
    "    })\n",
    "ridge_data = pd.DataFrame(ridge_data)\n",
    "ridge_data"
   ]
  },
  {
   "cell_type": "markdown",
   "metadata": {},
   "source": [
    "How penalty affects the train and test dataset?"
   ]
  },
  {
   "cell_type": "code",
   "execution_count": 156,
   "metadata": {},
   "outputs": [
    {
     "data": {
      "text/plain": [
       "<matplotlib.legend.Legend at 0x7fd31c0d5e20>"
      ]
     },
     "execution_count": 156,
     "metadata": {},
     "output_type": "execute_result"
    },
    {
     "data": {
      "image/png": "[encoded data removed]",
      "text/plain": [
       "<Figure size 640x480 with 1 Axes>"
      ]
     },
     "metadata": {},
     "output_type": "display_data"
    }
   ],
   "source": [
    "# Plot the validation RMSE as a blue line with dots\n",
    "plt.plot(ridge_data['l2_penalty'], ridge_data['rmse_validation'], \n",
    "         'b-^', label='Validation')\n",
    "# Plot the train RMSE as a red line dots\n",
    "plt.plot(ridge_data['l2_penalty'], ridge_data['rmse_train'], \n",
    "         'r-o', label='Train')\n",
    "\n",
    "# Set y-limits\n",
    "rmse_max = max(ridge_data['rmse_train'].max(), ridge_data['rmse_validation'].max())\n",
    "rmse_max *= 1.1  # Give a little buffer\n",
    "plt.ylim(0, rmse_max)\n",
    "\n",
    "# Make the x-axis log scale for readability\n",
    "plt.xscale('log')\n",
    "\n",
    "# Label the axes and make a legend\n",
    "plt.xlabel('l2_penalty (log scale)')\n",
    "plt.ylabel('RMSE')\n",
    "plt.legend()"
   ]
  },
  {
   "cell_type": "code",
   "execution_count": 157,
   "metadata": {},
   "outputs": [],
   "source": [
    "def print_coefficients(model, features):\n",
    "    \"\"\"\n",
    "    This function takes in a model column and a features column. \n",
    "    And prints the coefficient along with its feature name.\n",
    "    \"\"\"\n",
    "    feats = list(zip(features, model.coef_))\n",
    "    print(*feats, sep = \"\\n\")"
   ]
  },
  {
   "cell_type": "code",
   "execution_count": 158,
   "metadata": {},
   "outputs": [
    {
     "name": "stdout",
     "output_type": "stream",
     "text": [
      "L2 Penalty 1e-05\n",
      "Test RSME 4.817614592397898e-07\n",
      "Num Zero Coeffs 0\n"
     ]
    }
   ],
   "source": [
    "# Print information about best l2 model\n",
    "index = ridge_data['rmse_validation'].idxmin()\n",
    "row = ridge_data.loc[index]\n",
    "best_l2 = row['l2_penalty']\n",
    "\n",
    "\n",
    "ridge_model_test = Ridge(alpha=best_l2)\n",
    "ridge_model_test.fit(performance_train_data_standardized, score_train)\n",
    "predictions_test = ridge_model_test.predict(performance_test_data_standardized)\n",
    "rmse_test_ridge = mean_squared_error(predictions_test, score_test, squared=False)\n",
    "\n",
    "count = 0\n",
    "for num in ridge_model_test.coef_:\n",
    "  if num == 0:\n",
    "    count += 1\n",
    "num_zero_coeffs_ridge = count\n",
    "\n",
    "# Print your results to help you check their correctness.\n",
    "print('L2 Penalty',  best_l2)\n",
    "print('Test RSME', rmse_test_ridge)\n",
    "print('Num Zero Coeffs', num_zero_coeffs_ridge)"
   ]
  },
  {
   "cell_type": "markdown",
   "metadata": {},
   "source": [
    "# (3) LASSO Regression"
   ]
  },
  {
   "cell_type": "code",
   "execution_count": 159,
   "metadata": {},
   "outputs": [
    {
     "data": {
      "text/html": [
       "<div>\n",
       "<style scoped>\n",
       "    .dataframe tbody tr th:only-of-type {\n",
       "        vertical-align: middle;\n",
       "    }\n",
       "\n",
       "    .dataframe tbody tr th {\n",
       "        vertical-align: top;\n",
       "    }\n",
       "\n",
       "    .dataframe thead th {\n",
       "        text-align: right;\n",
       "    }\n",
       "</style>\n",
       "<table border=\"1\" class=\"dataframe\">\n",
       "  <thead>\n",
       "    <tr style=\"text-align: right;\">\n",
       "      <th></th>\n",
       "      <th>l1_penalty</th>\n",
       "      <th>model</th>\n",
       "      <th>rmse_train</th>\n",
       "      <th>rmse_validation</th>\n",
       "    </tr>\n",
       "  </thead>\n",
       "  <tbody>\n",
       "    <tr>\n",
       "      <th>0</th>\n",
       "      <td>1.000000e-12</td>\n",
       "      <td>Lasso(alpha=1e-12)</td>\n",
       "      <td>0.005991</td>\n",
       "      <td>0.006293</td>\n",
       "    </tr>\n",
       "    <tr>\n",
       "      <th>1</th>\n",
       "      <td>1.467799e-09</td>\n",
       "      <td>Lasso(alpha=1.4677992676220676e-09)</td>\n",
       "      <td>0.005991</td>\n",
       "      <td>0.006293</td>\n",
       "    </tr>\n",
       "    <tr>\n",
       "      <th>2</th>\n",
       "      <td>2.154435e-06</td>\n",
       "      <td>Lasso(alpha=2.1544346900318822e-06)</td>\n",
       "      <td>0.005961</td>\n",
       "      <td>0.006258</td>\n",
       "    </tr>\n",
       "    <tr>\n",
       "      <th>3</th>\n",
       "      <td>3.162278e-03</td>\n",
       "      <td>Lasso(alpha=0.0031622776601683794)</td>\n",
       "      <td>0.004552</td>\n",
       "      <td>0.005047</td>\n",
       "    </tr>\n",
       "    <tr>\n",
       "      <th>4</th>\n",
       "      <td>4.641589e+00</td>\n",
       "      <td>Lasso(alpha=4.641588833612772)</td>\n",
       "      <td>5.765785</td>\n",
       "      <td>6.348173</td>\n",
       "    </tr>\n",
       "    <tr>\n",
       "      <th>5</th>\n",
       "      <td>6.812921e+03</td>\n",
       "      <td>Lasso(alpha=6812.9206905795945)</td>\n",
       "      <td>8.911877</td>\n",
       "      <td>9.552043</td>\n",
       "    </tr>\n",
       "    <tr>\n",
       "      <th>6</th>\n",
       "      <td>1.000000e+07</td>\n",
       "      <td>Lasso(alpha=10000000.0)</td>\n",
       "      <td>8.911877</td>\n",
       "      <td>9.552043</td>\n",
       "    </tr>\n",
       "  </tbody>\n",
       "</table>\n",
       "</div>"
      ],
      "text/plain": [
       "     l1_penalty                                model  rmse_train  \\\n",
       "0  1.000000e-12                   Lasso(alpha=1e-12)    0.005991   \n",
       "1  1.467799e-09  Lasso(alpha=1.4677992676220676e-09)    0.005991   \n",
       "2  2.154435e-06  Lasso(alpha=2.1544346900318822e-06)    0.005961   \n",
       "3  3.162278e-03   Lasso(alpha=0.0031622776601683794)    0.004552   \n",
       "4  4.641589e+00       Lasso(alpha=4.641588833612772)    5.765785   \n",
       "5  6.812921e+03      Lasso(alpha=6812.9206905795945)    8.911877   \n",
       "6  1.000000e+07              Lasso(alpha=10000000.0)    8.911877   \n",
       "\n",
       "   rmse_validation  \n",
       "0         0.006293  \n",
       "1         0.006293  \n",
       "2         0.006258  \n",
       "3         0.005047  \n",
       "4         6.348173  \n",
       "5         9.552043  \n",
       "6         9.552043  "
      ]
     },
     "execution_count": 159,
     "metadata": {},
     "output_type": "execute_result"
    }
   ],
   "source": [
    "from sklearn.linear_model import Lasso\n",
    "\n",
    "l1_lambdas = np.logspace(-12, 7, 7, base=10)\n",
    "\n",
    "# Implement code to evaluate LASSO Regression with various L1 penalties\n",
    "lasso_data = []\n",
    "for i in l1_lambdas:\n",
    "  lasso_model = Lasso(alpha=i)\n",
    "  lasso_model.fit(performance_train_data_standardized, score_train)\n",
    "  predictions_train = lasso_model.predict(performance_train_data_standardized)\n",
    "  predictions_validation = lasso_model.predict(performance_val_data_standardized)\n",
    "  lasso_data.append({\n",
    "        'l1_penalty': i,\n",
    "        'model':lasso_model,\n",
    "        'rmse_train':mean_squared_error(predictions_train, score_train, squared=False),\n",
    "        'rmse_validation':mean_squared_error(predictions_validation, score_val, squared=False)\n",
    "    })\n",
    "lasso_data = pd.DataFrame(lasso_data)\n",
    "lasso_data"
   ]
  },
  {
   "cell_type": "markdown",
   "metadata": {},
   "source": [
    "How the L1 penalty affects the performance"
   ]
  },
  {
   "cell_type": "code",
   "execution_count": 160,
   "metadata": {},
   "outputs": [
    {
     "data": {
      "text/plain": [
       "<matplotlib.legend.Legend at 0x7fd31acc22e0>"
      ]
     },
     "execution_count": 160,
     "metadata": {},
     "output_type": "execute_result"
    },
    {
     "data": {
      "image/png": "[encoded data removed]",
      "text/plain": [
       "<Figure size 640x480 with 1 Axes>"
      ]
     },
     "metadata": {},
     "output_type": "display_data"
    }
   ],
   "source": [
    "# Plot the validation RMSE as a blue line with dots\n",
    "\n",
    "plt.plot(lasso_data['l1_penalty'], lasso_data['rmse_validation'],\n",
    "         'b-^', label='Validation')\n",
    "\n",
    "# Plot the train RMSE as a red line dots\n",
    "plt.plot(lasso_data['l1_penalty'], lasso_data['rmse_train'],\n",
    "         'r-o', label='Train')\n",
    "\n",
    "# Set y-limits\n",
    "rmse_max = max(lasso_data['rmse_train'].max(), lasso_data['rmse_validation'].max())\n",
    "rmse_max *= 1.1  # Give a little buffer\n",
    "plt.ylim(0, rmse_max)\n",
    "\n",
    "# Make the x-axis log scale for readability\n",
    "plt.xscale('log')\n",
    "\n",
    "# Label the axes and make a legend\n",
    "plt.xlabel('l1_penalty (log scale)')\n",
    "plt.ylabel('RMSE')\n",
    "plt.legend()"
   ]
  },
  {
   "cell_type": "code",
   "execution_count": 161,
   "metadata": {},
   "outputs": [
    {
     "name": "stdout",
     "output_type": "stream",
     "text": [
      "Best L1 Penalty 0.0031622776601683794\n",
      "Test RMSE 0.005150050672964629\n",
      "Num Zero Coeffs 33\n"
     ]
    }
   ],
   "source": [
    "# Print information about best L1 model\n",
    "\n",
    "index = lasso_data['rmse_validation'].idxmin()\n",
    "row = lasso_data.loc[index]\n",
    "best_l1 = row['l1_penalty']\n",
    "\n",
    "\n",
    "lasso_model_test = Lasso(alpha=best_l1)\n",
    "lasso_model_test.fit(performance_train_data_standardized, score_train)\n",
    "predictions_test = lasso_model_test.predict(performance_test_data_standardized)\n",
    "rmse_test_lasso = mean_squared_error(predictions_test, score_test, squared=False)\n",
    "\n",
    "count = 0\n",
    "for num in lasso_model_test.coef_:\n",
    "  if num == 0:\n",
    "    count += 1\n",
    "num_zero_coeffs_lasso = count\n",
    "\n",
    "# Print your results to help you check their correctness.\n",
    "print('Best L1 Penalty', best_l1)\n",
    "print('Test RMSE', rmse_test_lasso)\n",
    "print('Num Zero Coeffs', num_zero_coeffs_lasso)"
   ]
  },
  {
   "cell_type": "markdown",
   "metadata": {},
   "source": [
    "Look at which coefficients ended up having a 0 coefficient."
   ]
  },
  {
   "cell_type": "code",
   "execution_count": 162,
   "metadata": {},
   "outputs": [
    {
     "name": "stdout",
     "output_type": "stream",
     "text": [
      "Features with coefficient == 0: ['Min', 'Min_sqrt', 'FGM', 'FGM_sqrt', 'FGA', 'FG%', 'FG%_square', 'FG%_sqrt', '3PM', '3PM_square', '3PM_sqrt', '3PA', '3PA_square', '3PA_sqrt', '3P%', '3P%_square', '3P%_sqrt', 'FTM', 'FTM_square', 'FTM_sqrt', 'FTA', 'FTA_square', 'FTA_sqrt', 'FT%', 'FT%_square', 'FT%_sqrt', 'OREB', 'OREB_square', 'OREB_sqrt', 'DREB', 'DREB_square', 'DREB_sqrt', 'REB']\n",
      "Features with coefficient != 0: ['Min_square', 'FGM_square', 'FGA_square', 'FGA_sqrt']\n"
     ]
    }
   ],
   "source": [
    "best_model_lasso = lasso_model_test\n",
    "\n",
    "zero_coef_features = []\n",
    "nonzero_coef_features = []\n",
    "for feature, coef in zip(all_features, best_model_lasso.coef_):\n",
    "  if abs(coef) <= 10 ** -17:\n",
    "    zero_coef_features.append(feature)\n",
    "  else:\n",
    "    nonzero_coef_features.append(feature)\n",
    "\n",
    "print(\"Features with coefficient == 0:\", zero_coef_features)\n",
    "print(\"Features with coefficient != 0:\", nonzero_coef_features)"
   ]
  },
  {
   "cell_type": "code",
   "execution_count": 163,
   "metadata": {},
   "outputs": [
    {
     "name": "stdout",
     "output_type": "stream",
     "text": [
      "Min: 0.0\n",
      "Min_square: 6.810164944502491\n",
      "Min_sqrt: 0.0\n",
      "FGM: 0.0\n",
      "FGM_square: 1.261023390682978\n",
      "FGM_sqrt: 0.0\n",
      "FGA: 0.0\n",
      "FGA_square: 3.3472358819850596\n",
      "FGA_sqrt: 2.9490342307841314e-05\n",
      "FG%: 0.0\n",
      "FG%_square: 0.0\n",
      "FG%_sqrt: 0.0\n",
      "3PM: 0.0\n",
      "3PM_square: 0.0\n",
      "3PM_sqrt: 0.0\n",
      "3PA: -0.0\n",
      "3PA_square: 0.0\n",
      "3PA_sqrt: 0.0\n",
      "3P%: 0.0\n",
      "3P%_square: 0.0\n",
      "3P%_sqrt: 0.0\n",
      "FTM: 0.0\n",
      "FTM_square: -0.0\n",
      "FTM_sqrt: 0.0\n",
      "FTA: -0.0\n",
      "FTA_square: -0.0\n",
      "FTA_sqrt: 0.0\n",
      "FT%: 0.0\n",
      "FT%_square: -0.0\n",
      "FT%_sqrt: -0.0\n",
      "OREB: 0.0\n",
      "OREB_square: -0.0\n",
      "OREB_sqrt: -0.0\n",
      "DREB: 0.0\n",
      "DREB_square: -0.0\n",
      "DREB_sqrt: 0.0\n",
      "REB: -0.0\n"
     ]
    }
   ],
   "source": [
    "def print_coefficients(model, features):\n",
    "    \"\"\"\n",
    "    This function takes in a model and a features column.\n",
    "    And prints the coefficient along with its feature name.\n",
    "    \"\"\"\n",
    "    for feature, coef in zip(features, model.coef_):\n",
    "        print(f\"{feature}: {coef}\")\n",
    "\n",
    "print_coefficients(lasso_model_test, all_features)"
   ]
  }
 ],
 "metadata": {
  "kernelspec": {
   "display_name": "base",
   "language": "python",
   "name": "python3"
  },
  "language_info": {
   "codemirror_mode": {
    "name": "ipython",
    "version": 3
   },
   "file_extension": ".py",
   "mimetype": "text/x-python",
   "name": "python",
   "nbconvert_exporter": "python",
   "pygments_lexer": "ipython3",
   "version": "3.9.13"
  }
 },
 "nbformat": 4,
 "nbformat_minor": 2
}
