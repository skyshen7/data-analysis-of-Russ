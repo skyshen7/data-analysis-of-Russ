{
 "cells": [
  {
   "cell_type": "markdown",
   "metadata": {},
   "source": [
    "## Clean the raw data"
   ]
  },
  {
   "cell_type": "markdown",
   "metadata": {},
   "source": [
    "Load Packages"
   ]
  },
  {
   "cell_type": "code",
   "execution_count": 413,
   "metadata": {},
   "outputs": [],
   "source": [
    "import pandas as pd\n",
    "import numpy as np\n",
    "from datetime import datetime"
   ]
  },
  {
   "cell_type": "markdown",
   "metadata": {},
   "source": [
    "Read File"
   ]
  },
  {
   "cell_type": "code",
   "execution_count": 414,
   "metadata": {},
   "outputs": [],
   "source": [
    "path = 'raw.csv'\n",
    "Russell_data = pd.read_csv(path)"
   ]
  },
  {
   "cell_type": "markdown",
   "metadata": {},
   "source": [
    "Get rid of row which contains average and delete the \"Versus\" column"
   ]
  },
  {
   "cell_type": "code",
   "execution_count": 415,
   "metadata": {},
   "outputs": [],
   "source": [
    "Russell_data = Russell_data[Russell_data['Date'] != \"Average\"]\n",
    "\n",
    "Russell_data = Russell_data.drop(\"Versus\", axis=1)"
   ]
  },
  {
   "cell_type": "markdown",
   "metadata": {},
   "source": [
    "I assueme the 3P% and FT% to be zero if they didn't make any 3PA or FTA"
   ]
  },
  {
   "cell_type": "code",
   "execution_count": 416,
   "metadata": {},
   "outputs": [],
   "source": [
    "Russell_data['3P%'].fillna(0, inplace=True)\n",
    "Russell_data['FT%'].fillna(0, inplace=True)"
   ]
  },
  {
   "cell_type": "markdown",
   "metadata": {},
   "source": [
    "Drop invalid value"
   ]
  },
  {
   "cell_type": "code",
   "execution_count": 417,
   "metadata": {},
   "outputs": [],
   "source": [
    "Russell_data = Russell_data.dropna()   # Actually, there is no na value."
   ]
  },
  {
   "cell_type": "markdown",
   "metadata": {},
   "source": [
    "Split the score to three parts (Win/Lose; Team score; Opponent score)"
   ]
  },
  {
   "cell_type": "code",
   "execution_count": 418,
   "metadata": {},
   "outputs": [],
   "source": [
    "Russell_data['Win/Lose'] = Russell_data['Score'].str[0]\n",
    "\n",
    "score_split = Russell_data['Score'].str[1:].str.split('-', expand=True)\n",
    "\n",
    "Russell_data['Team score'] = score_split[0]\n",
    "\n",
    "Russell_data['Opponent score'] = score_split[1]\n",
    "\n",
    "# Drop the original column of score\n",
    "Russell_data = Russell_data.drop(\"Score\", axis=1)\n"
   ]
  },
  {
   "cell_type": "markdown",
   "metadata": {},
   "source": [
    "Split Date"
   ]
  },
  {
   "cell_type": "code",
   "execution_count": 419,
   "metadata": {},
   "outputs": [],
   "source": [
    "Russell_data['DayOfWeek'] = Russell_data['Date'].str[:3]  # First three letters\n",
    "Russell_data['date'] = Russell_data['Date'].str[3:]  # Rest of the string\n",
    "Russell_data = Russell_data.drop(\"Date\", axis=1)"
   ]
  },
  {
   "cell_type": "markdown",
   "metadata": {},
   "source": [
    "Check data type and make score to be int and removing trailing spaces"
   ]
  },
  {
   "cell_type": "code",
   "execution_count": 420,
   "metadata": {},
   "outputs": [],
   "source": [
    "Russell_data['Team score'] = Russell_data['Team score'].astype('Int64')\n",
    "Russell_data['Opponent score'] = Russell_data['Opponent score'].astype('Int64')\n",
    "\n",
    "for column in Russell_data.select_dtypes(include=['object']):  # Select only columns with object dtype\n",
    "    Russell_data[column] = Russell_data[column].str.strip()\n",
    "    "
   ]
  },
  {
   "cell_type": "markdown",
   "metadata": {},
   "source": [
    "Combine \"year\" with the \"date\""
   ]
  },
  {
   "cell_type": "code",
   "execution_count": 421,
   "metadata": {},
   "outputs": [],
   "source": [
    "Russell_data['Year'] = Russell_data['Year'].astype(int).astype(str)\n",
    "\n",
    "\n",
    "\n",
    "Russell_data['date'] = Russell_data['date'] + '/' + Russell_data['Year']\n",
    "#Russell_data['date'] = Russell_data['date'].str.rstrip('.0')\n",
    "\n",
    "Russell_data['date'] = pd.to_datetime(Russell_data['date'], format='%m/%d/%Y', errors='coerce')\n"
   ]
  },
  {
   "cell_type": "code",
   "execution_count": 422,
   "metadata": {},
   "outputs": [
    {
     "name": "stdout",
     "output_type": "stream",
     "text": [
      "Empty DataFrame\n",
      "Columns: [date, Year]\n",
      "Index: []\n"
     ]
    }
   ],
   "source": [
    "invalid_dates = Russell_data[Russell_data['date'].isna()]\n",
    "print(invalid_dates[['date', 'Year']])"
   ]
  },
  {
   "cell_type": "markdown",
   "metadata": {},
   "source": [
    "Sort data by date"
   ]
  },
  {
   "cell_type": "code",
   "execution_count": 423,
   "metadata": {},
   "outputs": [],
   "source": [
    "Russell_data.sort_values(by=\"date\", inplace=True)"
   ]
  },
  {
   "cell_type": "markdown",
   "metadata": {},
   "source": [
    "Extra verified"
   ]
  },
  {
   "cell_type": "code",
   "execution_count": 428,
   "metadata": {},
   "outputs": [
    {
     "name": "stdout",
     "output_type": "stream",
     "text": [
      "2009 0\n",
      "2010 0\n",
      "2011 0\n",
      "2012 0\n",
      "2013 0\n",
      "2014 0\n",
      "2015 0\n",
      "2016 0\n",
      "2017 0\n",
      "2018 0\n",
      "2019 0\n",
      "2020 0\n",
      "2021 0\n",
      "2022 0\n",
      "2023 0\n",
      "2024 0\n"
     ]
    }
   ],
   "source": [
    "years = [2009, 2010, 2011, 2012, 2013, 2014, 2015, 2016, 2017, \n",
    "         2018, 2019, 2020, 2021, 2022, 2023, 2024]\n",
    "\n",
    "for year in years:\n",
    "    print(year, len(Russell_data[Russell_data[\"Year\"] == year]))"
   ]
  },
  {
   "cell_type": "code",
   "execution_count": 430,
   "metadata": {},
   "outputs": [
    {
     "name": "stdout",
     "output_type": "stream",
     "text": [
      "Unique years in the dataset: ['2009' '2010' '2011' '2012' '2013' '2014' '2015' '2016' '2017' '2018'\n",
      " '2019' '2020' '2021' '2022' '2023' '2024']\n",
      "Counts for each year:\n",
      "2009    82\n",
      "2010    88\n",
      "2011    99\n",
      "2012    86\n",
      "2013    84\n",
      "2014    65\n",
      "2015    67\n",
      "2016    98\n",
      "2017    86\n",
      "2018    86\n",
      "2019    78\n",
      "2020    65\n",
      "2021    72\n",
      "2022    78\n",
      "2023    78\n",
      "2024    42\n",
      "Name: Year, dtype: int64\n"
     ]
    }
   ],
   "source": [
    "unique_years = Russell_data['Year'].unique()\n",
    "year_counts = Russell_data['Year'].value_counts(sort=False)\n",
    "\n",
    "print(\"Unique years in the dataset:\", unique_years)\n",
    "print(\"Counts for each year:\")\n",
    "print(year_counts)\n"
   ]
  },
  {
   "cell_type": "markdown",
   "metadata": {},
   "source": [
    "Classify the playoff game and regular season game"
   ]
  },
  {
   "cell_type": "code",
   "execution_count": 425,
   "metadata": {},
   "outputs": [],
   "source": [
    "# Set the default value for all rows in the new column\n",
    "Russell_data[\"Game Type\"] = \"Regular\"\n",
    "\n",
    "# Initialize a counter for consecutive occurrences\n",
    "consecutive_count = 1\n",
    "\n",
    "# Store the index of the first game in the current sequence of games against the same opponent\n",
    "start_index = None\n",
    "\n",
    "# Use iterrows to safely iterate over DataFrame rows\n",
    "for i, row in Russell_data.iterrows():\n",
    "    if start_index is None:\n",
    "        start_index = i  # Initialize start_index with the first row's index\n",
    "\n",
    "    if row['Opponent'] == previous_opponent:\n",
    "        consecutive_count += 1\n",
    "        if consecutive_count >= 4:\n",
    "            # When we have at least 4 consecutive games, mark them as 'Playoff'\n",
    "            Russell_data.loc[start_index:i, 'Game Type'] = 'Playoff'\n",
    "    else:\n",
    "        # Reset the counter and start_index when a new opponent is encountered\n",
    "        consecutive_count = 1\n",
    "        start_index = i\n",
    "        previous_opponent = row['Opponent']"
   ]
  },
  {
   "cell_type": "code",
   "execution_count": 426,
   "metadata": {},
   "outputs": [
    {
     "name": "stdout",
     "output_type": "stream",
     "text": [
      "2010: 6 playoff games\n",
      "2011: 17 playoff games\n",
      "2012: 20 playoff games\n",
      "2014: 19 playoff games\n",
      "2016: 18 playoff games\n",
      "2017: 5 playoff games\n",
      "2018: 6 playoff games\n",
      "2019: 5 playoff games\n",
      "2020: 5 playoff games\n",
      "2021: 6 playoff games\n",
      "2023: 6 playoff games\n"
     ]
    }
   ],
   "source": [
    "# Assuming 'Russell_data' is your dataframe and is already loaded with data similar to the provided image.\n",
    "\n",
    "# Group the data by 'Year' and filter for 'Playoff' games, then count the number of such games for each year.\n",
    "playoff_counts_by_year = Russell_data[Russell_data[\"Game Type\"] == \"Playoff\"].groupby('Year').size()\n",
    "\n",
    "# Print the results\n",
    "for year, count in playoff_counts_by_year.items():\n",
    "    print(f\"{year}: {count} playoff games\")\n",
    "\n"
   ]
  },
  {
   "cell_type": "markdown",
   "metadata": {},
   "source": [
    "Create new CSV file\n"
   ]
  },
  {
   "cell_type": "code",
   "execution_count": 427,
   "metadata": {},
   "outputs": [],
   "source": [
    "Russell_data.to_csv('Reorgnized_RB.csv', index=False)"
   ]
  }
 ],
 "metadata": {
  "kernelspec": {
   "display_name": "base",
   "language": "python",
   "name": "python3"
  },
  "language_info": {
   "codemirror_mode": {
    "name": "ipython",
    "version": 3
   },
   "file_extension": ".py",
   "mimetype": "text/x-python",
   "name": "python",
   "nbconvert_exporter": "python",
   "pygments_lexer": "ipython3",
   "version": "3.9.13"
  }
 },
 "nbformat": 4,
 "nbformat_minor": 2
}
