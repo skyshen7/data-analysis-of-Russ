{
 "cells": [
  {
   "cell_type": "markdown",
   "metadata": {},
   "source": [
    "## Clean the raw data"
   ]
  },
  {
   "cell_type": "markdown",
   "metadata": {},
   "source": [
    "Load Packages"
   ]
  },
  {
   "cell_type": "code",
   "execution_count": 22,
   "metadata": {},
   "outputs": [],
   "source": [
    "import pandas as pd\n",
    "import numpy as np\n",
    "from datetime import datetime"
   ]
  },
  {
   "cell_type": "markdown",
   "metadata": {},
   "source": [
    "Read File"
   ]
  },
  {
   "cell_type": "code",
   "execution_count": 23,
   "metadata": {},
   "outputs": [],
   "source": [
    "path = 'raw.csv'\n",
    "Russell_data = pd.read_csv(path)"
   ]
  },
  {
   "cell_type": "markdown",
   "metadata": {},
   "source": [
    "Get rid of row which contains average and delete the \"Versus\" column"
   ]
  },
  {
   "cell_type": "code",
   "execution_count": 24,
   "metadata": {},
   "outputs": [],
   "source": [
    "Russell_data = Russell_data[Russell_data['Date'] != \"Average\"]\n",
    "\n",
    "Russell_data = Russell_data.drop(\"Versus\", axis=1)"
   ]
  },
  {
   "cell_type": "markdown",
   "metadata": {},
   "source": [
    "I assueme the 3P% and FT% to be zero if they didn't make any 3PA or FTA"
   ]
  },
  {
   "cell_type": "code",
   "execution_count": 25,
   "metadata": {},
   "outputs": [],
   "source": [
    "Russell_data['3P%'].fillna(0, inplace=True)\n",
    "Russell_data['FT%'].fillna(0, inplace=True)"
   ]
  },
  {
   "cell_type": "markdown",
   "metadata": {},
   "source": [
    "Drop invalid value"
   ]
  },
  {
   "cell_type": "code",
   "execution_count": 26,
   "metadata": {},
   "outputs": [],
   "source": [
    "Russell_data = Russell_data.dropna()   # Actually, there is no na value."
   ]
  },
  {
   "cell_type": "markdown",
   "metadata": {},
   "source": [
    "Split the score to three parts (Win/Lose; Team score; Opponent score)"
   ]
  },
  {
   "cell_type": "code",
   "execution_count": 27,
   "metadata": {},
   "outputs": [],
   "source": [
    "Russell_data['Win/Lose'] = Russell_data['Score'].str[0]\n",
    "\n",
    "score_split = Russell_data['Score'].str[1:].str.split('-', expand=True)\n",
    "\n",
    "Russell_data['Team score'] = score_split[0]\n",
    "\n",
    "Russell_data['Opponent score'] = score_split[1]\n",
    "\n",
    "# Drop the original column of score\n",
    "Russell_data = Russell_data.drop(\"Score\", axis=1)\n"
   ]
  },
  {
   "cell_type": "markdown",
   "metadata": {},
   "source": [
    "Split Date"
   ]
  },
  {
   "cell_type": "code",
   "execution_count": 28,
   "metadata": {},
   "outputs": [],
   "source": [
    "Russell_data['DayOfWeek'] = Russell_data['Date'].str[:3]  # First three letters\n",
    "Russell_data['date'] = Russell_data['Date'].str[3:]  # Rest of the string\n",
    "Russell_data = Russell_data.drop(\"Date\", axis=1)"
   ]
  },
  {
   "cell_type": "markdown",
   "metadata": {},
   "source": [
    "Check data type and make score to be int and removing trailing spaces"
   ]
  },
  {
   "cell_type": "code",
   "execution_count": 29,
   "metadata": {},
   "outputs": [],
   "source": [
    "Russell_data['Team score'] = Russell_data['Team score'].astype('Int64')\n",
    "Russell_data['Opponent score'] = Russell_data['Opponent score'].astype('Int64')\n",
    "\n",
    "for column in Russell_data.select_dtypes(include=['object']):  # Select only columns with object dtype\n",
    "    Russell_data[column] = Russell_data[column].str.strip()\n",
    "    "
   ]
  },
  {
   "cell_type": "markdown",
   "metadata": {},
   "source": []
  },
  {
   "cell_type": "markdown",
   "metadata": {},
   "source": [
    "Combine \"year\" with the \"date\""
   ]
  },
  {
   "cell_type": "code",
   "execution_count": 30,
   "metadata": {},
   "outputs": [],
   "source": [
    "Russell_data['Year'] = Russell_data['Year'].astype(int).astype(str)\n",
    "\n",
    "\n",
    "\n",
    "Russell_data['date'] = Russell_data['date'] + '/' + Russell_data['Year']\n",
    "#Russell_data['date'] = Russell_data['date'].str.rstrip('.0')\n",
    "\n",
    "Russell_data['date'] = pd.to_datetime(Russell_data['date'], format='%m/%d/%Y', errors='coerce')\n"
   ]
  },
  {
   "cell_type": "code",
   "execution_count": 31,
   "metadata": {},
   "outputs": [
    {
     "data": {
      "text/html": [
       "<div>\n",
       "<style scoped>\n",
       "    .dataframe tbody tr th:only-of-type {\n",
       "        vertical-align: middle;\n",
       "    }\n",
       "\n",
       "    .dataframe tbody tr th {\n",
       "        vertical-align: top;\n",
       "    }\n",
       "\n",
       "    .dataframe thead th {\n",
       "        text-align: right;\n",
       "    }\n",
       "</style>\n",
       "<table border=\"1\" class=\"dataframe\">\n",
       "  <thead>\n",
       "    <tr style=\"text-align: right;\">\n",
       "      <th></th>\n",
       "      <th>date</th>\n",
       "      <th>Year</th>\n",
       "    </tr>\n",
       "  </thead>\n",
       "  <tbody>\n",
       "  </tbody>\n",
       "</table>\n",
       "</div>"
      ],
      "text/plain": [
       "Empty DataFrame\n",
       "Columns: [date, Year]\n",
       "Index: []"
      ]
     },
     "execution_count": 31,
     "metadata": {},
     "output_type": "execute_result"
    }
   ],
   "source": [
    "invalid_dates = Russell_data[Russell_data['date'].isna()]\n",
    "invalid_dates[['date', 'Year']]"
   ]
  },
  {
   "cell_type": "markdown",
   "metadata": {},
   "source": [
    "Add column \"Season\""
   ]
  },
  {
   "cell_type": "code",
   "execution_count": 32,
   "metadata": {},
   "outputs": [],
   "source": [
    "# Calculate the 'Season' based on the year\n",
    "Russell_data['Season'] = Russell_data['Year'].astype(int) - 2008  # Subtracting the base year from each entry"
   ]
  },
  {
   "cell_type": "markdown",
   "metadata": {},
   "source": [
    "Make sure the date is accurate "
   ]
  },
  {
   "cell_type": "code",
   "execution_count": 33,
   "metadata": {},
   "outputs": [],
   "source": [
    "Russell_data['date'] = np.where(\n",
    "    Russell_data['date'].dt.month > 9,\n",
    "    Russell_data['date'] - pd.offsets.DateOffset(years=1),\n",
    "    Russell_data['date']\n",
    ")\n",
    "Russell_data['date']\n",
    "\n",
    "Russell_data['Year'] = Russell_data['date'].dt.year"
   ]
  },
  {
   "cell_type": "markdown",
   "metadata": {},
   "source": [
    "Sort data by date"
   ]
  },
  {
   "cell_type": "code",
   "execution_count": 34,
   "metadata": {},
   "outputs": [],
   "source": [
    "Russell_data.sort_values(by=\"date\", inplace=True)"
   ]
  },
  {
   "cell_type": "code",
   "execution_count": 35,
   "metadata": {},
   "outputs": [
    {
     "name": "stdout",
     "output_type": "stream",
     "text": [
      "Unique years in the dataset: [2008 2009 2010 2011 2012 2013 2014 2015 2016 2017 2018 2019 2020 2021\n",
      " 2022 2023 2024]\n",
      "Counts for each year:\n",
      "2008     33\n",
      "2009     81\n",
      "2010     90\n",
      "2011     70\n",
      "2012    111\n",
      "2013     79\n",
      "2014     59\n",
      "2015     81\n",
      "2016     99\n",
      "2017     89\n",
      "2018     77\n",
      "2019     80\n",
      "2020     39\n",
      "2021    105\n",
      "2022     74\n",
      "2023     76\n",
      "2024     11\n",
      "Name: Year, dtype: int64\n"
     ]
    }
   ],
   "source": [
    "unique_years = Russell_data['Year'].unique()\n",
    "year_counts = Russell_data['Year'].value_counts(sort=False)\n",
    "\n",
    "print(\"Unique years in the dataset:\", unique_years)\n",
    "print(\"Counts for each year:\")\n",
    "print(year_counts)\n"
   ]
  },
  {
   "cell_type": "markdown",
   "metadata": {},
   "source": [
    "Classify the playoff game and regular season game"
   ]
  },
  {
   "cell_type": "code",
   "execution_count": 36,
   "metadata": {},
   "outputs": [],
   "source": [
    "# Set the default value for all rows in the new column \n",
    "Russell_data[\"Game Type\"] = \"Regular\"\n",
    "\n",
    "# Initialize a counter for consecutive occurrences\n",
    "consecutive_count = 1\n",
    "\n",
    "# Store the index of the first game in the current sequence of games against the same opponent\n",
    "start_index = None\n",
    "\n",
    "previous_opponent = None\n",
    "\n",
    "# Track the date of last playoff game\n",
    "# last_playoff_date = None\n",
    "\n",
    "# Use iterrows to safely iterate over DataFrame rows\n",
    "for i, row in Russell_data.iterrows():\n",
    "    if start_index is None:\n",
    "        start_index = i  # Initialize start_index with the first row's index\n",
    "\n",
    "    if row['Opponent'] == previous_opponent:\n",
    "        consecutive_count += 1\n",
    "        if consecutive_count >= 4:\n",
    "                # if last_playoff_date is not None:\n",
    "                # month_diff = (row['Date'].year - last_playoff_date.year) * 12 + row['Date'].month - last_playoff_date.month\n",
    "                # if month_diff > 2:\n",
    "                #     # If more than 2 months apart, it's a regular game\n",
    "                #     Russell_data.at[i, 'Game Type'] = 'Regular'\n",
    "                #     # Reset the last playoff date\n",
    "                #     last_playoff_date = None\n",
    "                #     continue\n",
    "            # When we have at least 4 consecutive games, mark them as 'Playoff'\n",
    "            Russell_data.loc[start_index:i, 'Game Type'] = 'Playoff'\n",
    "    else:\n",
    "        # Reset the counter and start_index when a new opponent is encountered\n",
    "        consecutive_count = 1\n",
    "        start_index = i\n",
    "        previous_opponent = row['Opponent']\n",
    "        \n",
    "        \n",
    "#2020 3 games are playoff that doesn't count \n",
    "#2013 2 games are playoff that doesn't count \n",
    "dates_to_change = ['2020-08-29', '2020-08-31', '2020-09-02',\"2013-04-21\",\"2013-04-24\"]\n",
    "dates_to_change = pd.to_datetime(dates_to_change)\n",
    "\n",
    "for date in dates_to_change:\n",
    "    Russell_data.loc[Russell_data['date'] == date, 'Game Type'] = 'Playoff'\n"
   ]
  },
  {
   "cell_type": "code",
   "execution_count": 37,
   "metadata": {},
   "outputs": [
    {
     "name": "stdout",
     "output_type": "stream",
     "text": [
      "2010: 6 playoff games\n",
      "2011: 17 playoff games\n",
      "2012: 20 playoff games\n",
      "2013: 2 playoff games\n",
      "2014: 19 playoff games\n",
      "2016: 18 playoff games\n",
      "2017: 5 playoff games\n",
      "2018: 6 playoff games\n",
      "2019: 5 playoff games\n",
      "2020: 8 playoff games\n",
      "2021: 5 playoff games\n",
      "2023: 6 playoff games\n"
     ]
    }
   ],
   "source": [
    "# Assuming 'Russell_data' is your dataframe and is already loaded with data similar to the provided image.\n",
    "\n",
    "# Group the data by 'Year' and filter for 'Playoff' games, then count the number of such games for each year.\n",
    "playoff_counts_by_year = Russell_data[Russell_data[\"Game Type\"] == \"Playoff\"].groupby('Year').size()\n",
    "\n",
    "# Print the results\n",
    "for year, count in playoff_counts_by_year.items():\n",
    "    print(f\"{year}: {count} playoff games\")"
   ]
  },
  {
   "cell_type": "markdown",
   "metadata": {},
   "source": [
    "Change the \"Win/Lose\" column to dummy variable"
   ]
  },
  {
   "cell_type": "code",
   "execution_count": 38,
   "metadata": {},
   "outputs": [],
   "source": [
    "Russell_data['Win/Lose'] = Russell_data['Win/Lose'].map({'L': \"Lose\", 'W': \"Win\"})\n",
    "Russell_data = pd.get_dummies(Russell_data, columns=['Win/Lose'], prefix='', prefix_sep='')"
   ]
  },
  {
   "cell_type": "markdown",
   "metadata": {},
   "source": [
    "Change the \"DayOfWeek\" to dummy variables"
   ]
  },
  {
   "cell_type": "code",
   "execution_count": 39,
   "metadata": {},
   "outputs": [],
   "source": [
    "Russell_data['DayOfWeek'] = Russell_data['DayOfWeek'].map({'Mon': \"Monday\", 'Tue': \"Tuesday\", 'Wed': \"Wednesday\", 'Thu': \"Thursday\", \n",
    "                                                           'Fri': \"Friday\", 'Sat': \"Saturday\", 'Sun': \"Sunday\"})\n",
    "Russell_data = pd.get_dummies(Russell_data, columns=['DayOfWeek'], prefix='', prefix_sep='')"
   ]
  },
  {
   "cell_type": "markdown",
   "metadata": {},
   "source": [
    "Change the \"Team to dummy variables because Russell played different role in different team"
   ]
  },
  {
   "cell_type": "code",
   "execution_count": 40,
   "metadata": {},
   "outputs": [],
   "source": [
    "Russell_data = pd.get_dummies(Russell_data, columns=['Team'], prefix='', prefix_sep='')"
   ]
  },
  {
   "cell_type": "markdown",
   "metadata": {},
   "source": [
    "Change \"Game Type\" to dummy variables."
   ]
  },
  {
   "cell_type": "code",
   "execution_count": 41,
   "metadata": {},
   "outputs": [],
   "source": [
    "Russell_data = pd.get_dummies(Russell_data, columns=['Game Type'], prefix='', prefix_sep='')"
   ]
  },
  {
   "cell_type": "markdown",
   "metadata": {},
   "source": [
    "Create new CSV file\n"
   ]
  },
  {
   "cell_type": "code",
   "execution_count": 42,
   "metadata": {},
   "outputs": [],
   "source": [
    "Russell_data.to_csv('Reorgnized_RB.csv', index=False)"
   ]
  }
 ],
 "metadata": {
  "kernelspec": {
   "display_name": "base",
   "language": "python",
   "name": "python3"
  },
  "language_info": {
   "codemirror_mode": {
    "name": "ipython",
    "version": 3
   },
   "file_extension": ".py",
   "mimetype": "text/x-python",
   "name": "python",
   "nbconvert_exporter": "python",
   "pygments_lexer": "ipython3",
   "version": "3.9.13"
  }
 },
 "nbformat": 4,
 "nbformat_minor": 2
}
