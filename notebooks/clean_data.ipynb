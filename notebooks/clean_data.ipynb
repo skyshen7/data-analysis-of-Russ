{
 "cells": [
  {
   "cell_type": "markdown",
   "metadata": {},
   "source": [
    "## Clean the raw data"
   ]
  },
  {
   "cell_type": "markdown",
   "metadata": {},
   "source": [
    "Load Packages"
   ]
  },
  {
   "cell_type": "code",
   "execution_count": 21,
   "metadata": {},
   "outputs": [],
   "source": [
    "import pandas as pd\n",
    "import numpy as np\n",
    "from datetime import datetime"
   ]
  },
  {
   "cell_type": "markdown",
   "metadata": {},
   "source": [
    "Read File"
   ]
  },
  {
   "cell_type": "code",
   "execution_count": 22,
   "metadata": {},
   "outputs": [],
   "source": [
    "path = 'raw.csv'\n",
    "Russell_data = pd.read_csv(path)"
   ]
  },
  {
   "cell_type": "markdown",
   "metadata": {},
   "source": [
    "Get rid of row which contains average and delete the \"Versus\" column"
   ]
  },
  {
   "cell_type": "code",
   "execution_count": 23,
   "metadata": {},
   "outputs": [],
   "source": [
    "Russell_data = Russell_data[Russell_data['Date'] != \"Average\"]\n",
    "\n",
    "Russell_data = Russell_data.drop(\"Versus\", axis=1)"
   ]
  },
  {
   "cell_type": "markdown",
   "metadata": {},
   "source": [
    "I assueme the 3P% and FT% to be zero if they didn't make any 3PA or FTA"
   ]
  },
  {
   "cell_type": "code",
   "execution_count": 24,
   "metadata": {},
   "outputs": [],
   "source": [
    "Russell_data['3P%'].fillna(0, inplace=True)\n",
    "Russell_data['FT%'].fillna(0, inplace=True)"
   ]
  },
  {
   "cell_type": "markdown",
   "metadata": {},
   "source": [
    "Drop invalid value"
   ]
  },
  {
   "cell_type": "code",
   "execution_count": 25,
   "metadata": {},
   "outputs": [],
   "source": [
    "Russell_data = Russell_data.dropna()   # Actually, there is no na value."
   ]
  },
  {
   "cell_type": "markdown",
   "metadata": {},
   "source": [
    "Split the score to three parts (Win/Lose; Team score; Opponent score)"
   ]
  },
  {
   "cell_type": "code",
   "execution_count": 26,
   "metadata": {},
   "outputs": [],
   "source": [
    "Russell_data['Win/Lose'] = Russell_data['Score'].str[0]\n",
    "\n",
    "score_split = Russell_data['Score'].str[1:].str.split('-', expand=True)\n",
    "\n",
    "Russell_data['Team score'] = score_split[0]\n",
    "\n",
    "Russell_data['Opponent score'] = score_split[1]\n",
    "\n",
    "# Drop the original column of score\n",
    "Russell_data = Russell_data.drop(\"Score\", axis=1)\n"
   ]
  },
  {
   "cell_type": "markdown",
   "metadata": {},
   "source": [
    "Split Date"
   ]
  },
  {
   "cell_type": "code",
   "execution_count": 27,
   "metadata": {},
   "outputs": [],
   "source": [
    "Russell_data['DayOfWeek'] = Russell_data['Date'].str[:3]  # First three letters\n",
    "Russell_data['date'] = Russell_data['Date'].str[3:]  # Rest of the string\n",
    "Russell_data = Russell_data.drop(\"Date\", axis=1)"
   ]
  },
  {
   "cell_type": "markdown",
   "metadata": {},
   "source": [
    "Check data type and make score to be int and removing trailing spaces"
   ]
  },
  {
   "cell_type": "code",
   "execution_count": 28,
   "metadata": {},
   "outputs": [],
   "source": [
    "Russell_data['Team score'] = Russell_data['Team score'].astype('Int64')\n",
    "Russell_data['Opponent score'] = Russell_data['Opponent score'].astype('Int64')\n",
    "\n",
    "for column in Russell_data.select_dtypes(include=['object']):  # Select only columns with object dtype\n",
    "    Russell_data[column] = Russell_data[column].str.strip()\n",
    "    "
   ]
  },
  {
   "cell_type": "markdown",
   "metadata": {},
   "source": []
  },
  {
   "cell_type": "markdown",
   "metadata": {},
   "source": [
    "Combine \"year\" with the \"date\""
   ]
  },
  {
   "cell_type": "code",
   "execution_count": 29,
   "metadata": {},
   "outputs": [],
   "source": [
    "Russell_data['Year'] = Russell_data['Year'].astype(int).astype(str)\n",
    "\n",
    "\n",
    "\n",
    "Russell_data['date'] = Russell_data['date'] + '/' + Russell_data['Year']\n",
    "#Russell_data['date'] = Russell_data['date'].str.rstrip('.0')\n",
    "\n",
    "Russell_data['date'] = pd.to_datetime(Russell_data['date'], format='%m/%d/%Y', errors='coerce')\n"
   ]
  },
  {
   "cell_type": "code",
   "execution_count": 30,
   "metadata": {},
   "outputs": [
    {
     "data": {
      "text/html": [
       "<div>\n",
       "<style scoped>\n",
       "    .dataframe tbody tr th:only-of-type {\n",
       "        vertical-align: middle;\n",
       "    }\n",
       "\n",
       "    .dataframe tbody tr th {\n",
       "        vertical-align: top;\n",
       "    }\n",
       "\n",
       "    .dataframe thead th {\n",
       "        text-align: right;\n",
       "    }\n",
       "</style>\n",
       "<table border=\"1\" class=\"dataframe\">\n",
       "  <thead>\n",
       "    <tr style=\"text-align: right;\">\n",
       "      <th></th>\n",
       "      <th>date</th>\n",
       "      <th>Year</th>\n",
       "    </tr>\n",
       "  </thead>\n",
       "  <tbody>\n",
       "  </tbody>\n",
       "</table>\n",
       "</div>"
      ],
      "text/plain": [
       "Empty DataFrame\n",
       "Columns: [date, Year]\n",
       "Index: []"
      ]
     },
     "execution_count": 30,
     "metadata": {},
     "output_type": "execute_result"
    }
   ],
   "source": [
    "invalid_dates = Russell_data[Russell_data['date'].isna()]\n",
    "invalid_dates[['date', 'Year']]"
   ]
  },
  {
   "cell_type": "markdown",
   "metadata": {},
   "source": [
    "Add column \"Season\""
   ]
  },
  {
   "cell_type": "code",
   "execution_count": 31,
   "metadata": {},
   "outputs": [],
   "source": [
    "# Calculate the 'Season' based on the year\n",
    "Russell_data['Season'] = Russell_data['Year'].astype(int) - 2008  # Subtracting the base year from each entry"
   ]
  },
  {
   "cell_type": "markdown",
   "metadata": {},
   "source": [
    "Make sure the date is accurate "
   ]
  },
  {
   "cell_type": "code",
   "execution_count": 32,
   "metadata": {},
   "outputs": [],
   "source": [
    "Russell_data['date'] = np.where(\n",
    "    Russell_data['date'].dt.month > 9,\n",
    "    Russell_data['date'] - pd.offsets.DateOffset(years=1),\n",
    "    Russell_data['date']\n",
    ")\n",
    "Russell_data['date']\n",
    "\n",
    "Russell_data['Year'] = Russell_data['date'].dt.year"
   ]
  },
  {
   "cell_type": "markdown",
   "metadata": {},
   "source": [
    "Sort data by date"
   ]
  },
  {
   "cell_type": "code",
   "execution_count": 33,
   "metadata": {},
   "outputs": [],
   "source": [
    "Russell_data.sort_values(by=\"date\", inplace=True)"
   ]
  },
  {
   "cell_type": "code",
   "execution_count": 34,
   "metadata": {},
   "outputs": [
    {
     "name": "stdout",
     "output_type": "stream",
     "text": [
      "Unique years in the dataset: [2008 2009 2010 2011 2012 2013 2014 2015 2016 2017 2018 2019 2020 2021\n",
      " 2022 2023 2024]\n",
      "Counts for each year:\n",
      "2008     33\n",
      "2009     81\n",
      "2010     90\n",
      "2011     70\n",
      "2012    111\n",
      "2013     79\n",
      "2014     59\n",
      "2015     81\n",
      "2016     99\n",
      "2017     89\n",
      "2018     77\n",
      "2019     80\n",
      "2020     39\n",
      "2021    105\n",
      "2022     74\n",
      "2023     76\n",
      "2024     11\n",
      "Name: Year, dtype: int64\n"
     ]
    }
   ],
   "source": [
    "unique_years = Russell_data['Year'].unique()\n",
    "year_counts = Russell_data['Year'].value_counts(sort=False)\n",
    "\n",
    "print(\"Unique years in the dataset:\", unique_years)\n",
    "print(\"Counts for each year:\")\n",
    "print(year_counts)\n"
   ]
  },
  {
   "cell_type": "markdown",
   "metadata": {},
   "source": [
    "Classify the playoff game and regular season game"
   ]
  },
  {
   "cell_type": "code",
   "execution_count": 35,
   "metadata": {},
   "outputs": [],
   "source": [
    "# Set the default value for all rows in the new column\n",
    "Russell_data[\"Game Type\"] = \"Regular\"\n",
    "\n",
    "# Initialize a counter for consecutive occurrences\n",
    "consecutive_count = 1\n",
    "\n",
    "# Store the index of the first game in the current sequence of games against the same opponent\n",
    "start_index = None\n",
    "\n",
    "previous_opponent = None\n",
    "\n",
    "# Track the date of last playoff game\n",
    "# last_playoff_date = None\n",
    "\n",
    "# Use iterrows to safely iterate over DataFrame rows\n",
    "for i, row in Russell_data.iterrows():\n",
    "    if start_index is None:\n",
    "        start_index = i  # Initialize start_index with the first row's index\n",
    "\n",
    "    if row['Opponent'] == previous_opponent:\n",
    "        consecutive_count += 1\n",
    "        if consecutive_count >= 4:\n",
    "                # if last_playoff_date is not None:\n",
    "                # month_diff = (row['Date'].year - last_playoff_date.year) * 12 + row['Date'].month - last_playoff_date.month\n",
    "                # if month_diff > 2:\n",
    "                #     # If more than 2 months apart, it's a regular game\n",
    "                #     Russell_data.at[i, 'Game Type'] = 'Regular'\n",
    "                #     # Reset the last playoff date\n",
    "                #     last_playoff_date = None\n",
    "                #     continue\n",
    "            # When we have at least 4 consecutive games, mark them as 'Playoff'\n",
    "            Russell_data.loc[start_index:i, 'Game Type'] = 'Playoff'\n",
    "    else:\n",
    "        # Reset the counter and start_index when a new opponent is encountered\n",
    "        consecutive_count = 1\n",
    "        start_index = i\n",
    "        previous_opponent = row['Opponent']\n",
    "        \n",
    "        \n",
    "#2020 3 games are playoff that doesn't count \n",
    "#2013 2 games are playoff that doesn't count \n",
    "dates_to_change = ['2020-08-29', '2020-08-31', '2020-09-02',\"2013-04-21\",\"2013-04-24\"]\n",
    "dates_to_change = pd.to_datetime(dates_to_change)\n",
    "\n",
    "for date in dates_to_change:\n",
    "    Russell_data.loc[Russell_data['date'] == date, 'Game Type'] = 'Playoff'\n"
   ]
  },
  {
   "cell_type": "code",
   "execution_count": 36,
   "metadata": {},
   "outputs": [
    {
     "name": "stdout",
     "output_type": "stream",
     "text": [
      "2010: 6 playoff games\n",
      "2011: 17 playoff games\n",
      "2012: 20 playoff games\n",
      "2013: 2 playoff games\n",
      "2014: 19 playoff games\n",
      "2016: 18 playoff games\n",
      "2017: 5 playoff games\n",
      "2018: 6 playoff games\n",
      "2019: 5 playoff games\n",
      "2020: 8 playoff games\n",
      "2021: 5 playoff games\n",
      "2023: 6 playoff games\n"
     ]
    }
   ],
   "source": [
    "# Assuming 'Russell_data' is your dataframe and is already loaded with data similar to the provided image.\n",
    "\n",
    "# Group the data by 'Year' and filter for 'Playoff' games, then count the number of such games for each year.\n",
    "playoff_counts_by_year = Russell_data[Russell_data[\"Game Type\"] == \"Playoff\"].groupby('Year').size()\n",
    "\n",
    "# Print the results\n",
    "for year, count in playoff_counts_by_year.items():\n",
    "    print(f\"{year}: {count} playoff games\")"
   ]
  },
  {
   "cell_type": "markdown",
   "metadata": {},
   "source": [
    "Change the \"Win/Lose\" column type.(Change string to int)  0:L  1:W"
   ]
  },
  {
   "cell_type": "code",
   "execution_count": 37,
   "metadata": {},
   "outputs": [],
   "source": [
    "Russell_data['Win/Lose'] = Russell_data['Win/Lose'].map({'L': 0, 'W': 1})"
   ]
  },
  {
   "cell_type": "markdown",
   "metadata": {},
   "source": [
    "Change the \"DayOfWeek\" type. eg. Mon - 1; Tue - 2, etc"
   ]
  },
  {
   "cell_type": "code",
   "execution_count": 38,
   "metadata": {},
   "outputs": [
    {
     "data": {
      "text/html": [
       "<div>\n",
       "<style scoped>\n",
       "    .dataframe tbody tr th:only-of-type {\n",
       "        vertical-align: middle;\n",
       "    }\n",
       "\n",
       "    .dataframe tbody tr th {\n",
       "        vertical-align: top;\n",
       "    }\n",
       "\n",
       "    .dataframe thead th {\n",
       "        text-align: right;\n",
       "    }\n",
       "</style>\n",
       "<table border=\"1\" class=\"dataframe\">\n",
       "  <thead>\n",
       "    <tr style=\"text-align: right;\">\n",
       "      <th></th>\n",
       "      <th>Team</th>\n",
       "      <th>Opponent</th>\n",
       "      <th>Min</th>\n",
       "      <th>FGM</th>\n",
       "      <th>FGA</th>\n",
       "      <th>FG%</th>\n",
       "      <th>3PM</th>\n",
       "      <th>3PA</th>\n",
       "      <th>3P%</th>\n",
       "      <th>FTM</th>\n",
       "      <th>...</th>\n",
       "      <th>PTS</th>\n",
       "      <th>+/-</th>\n",
       "      <th>Year</th>\n",
       "      <th>Win/Lose</th>\n",
       "      <th>Team score</th>\n",
       "      <th>Opponent score</th>\n",
       "      <th>DayOfWeek</th>\n",
       "      <th>date</th>\n",
       "      <th>Season</th>\n",
       "      <th>Game Type</th>\n",
       "    </tr>\n",
       "  </thead>\n",
       "  <tbody>\n",
       "    <tr>\n",
       "      <th>87</th>\n",
       "      <td>OKC</td>\n",
       "      <td>MIL</td>\n",
       "      <td>22.0</td>\n",
       "      <td>4.0</td>\n",
       "      <td>9.0</td>\n",
       "      <td>44.4</td>\n",
       "      <td>1.0</td>\n",
       "      <td>2.0</td>\n",
       "      <td>50.0</td>\n",
       "      <td>4.0</td>\n",
       "      <td>...</td>\n",
       "      <td>13.0</td>\n",
       "      <td>5.0</td>\n",
       "      <td>2008</td>\n",
       "      <td>0</td>\n",
       "      <td>87</td>\n",
       "      <td>98</td>\n",
       "      <td>3</td>\n",
       "      <td>2008-10-29</td>\n",
       "      <td>1</td>\n",
       "      <td>Regular</td>\n",
       "    </tr>\n",
       "    <tr>\n",
       "      <th>85</th>\n",
       "      <td>OKC</td>\n",
       "      <td>HOU</td>\n",
       "      <td>19.0</td>\n",
       "      <td>2.0</td>\n",
       "      <td>7.0</td>\n",
       "      <td>28.6</td>\n",
       "      <td>0.0</td>\n",
       "      <td>1.0</td>\n",
       "      <td>0.0</td>\n",
       "      <td>2.0</td>\n",
       "      <td>...</td>\n",
       "      <td>6.0</td>\n",
       "      <td>-19.0</td>\n",
       "      <td>2008</td>\n",
       "      <td>0</td>\n",
       "      <td>77</td>\n",
       "      <td>89</td>\n",
       "      <td>6</td>\n",
       "      <td>2008-11-01</td>\n",
       "      <td>1</td>\n",
       "      <td>Regular</td>\n",
       "    </tr>\n",
       "    <tr>\n",
       "      <th>84</th>\n",
       "      <td>OKC</td>\n",
       "      <td>MIN</td>\n",
       "      <td>25.0</td>\n",
       "      <td>6.0</td>\n",
       "      <td>13.0</td>\n",
       "      <td>46.2</td>\n",
       "      <td>0.0</td>\n",
       "      <td>1.0</td>\n",
       "      <td>0.0</td>\n",
       "      <td>2.0</td>\n",
       "      <td>...</td>\n",
       "      <td>14.0</td>\n",
       "      <td>7.0</td>\n",
       "      <td>2008</td>\n",
       "      <td>1</td>\n",
       "      <td>88</td>\n",
       "      <td>85</td>\n",
       "      <td>7</td>\n",
       "      <td>2008-11-02</td>\n",
       "      <td>1</td>\n",
       "      <td>Regular</td>\n",
       "    </tr>\n",
       "    <tr>\n",
       "      <th>83</th>\n",
       "      <td>OKC</td>\n",
       "      <td>BOS</td>\n",
       "      <td>19.0</td>\n",
       "      <td>4.0</td>\n",
       "      <td>13.0</td>\n",
       "      <td>30.8</td>\n",
       "      <td>3.0</td>\n",
       "      <td>5.0</td>\n",
       "      <td>60.0</td>\n",
       "      <td>2.0</td>\n",
       "      <td>...</td>\n",
       "      <td>13.0</td>\n",
       "      <td>-3.0</td>\n",
       "      <td>2008</td>\n",
       "      <td>0</td>\n",
       "      <td>83</td>\n",
       "      <td>96</td>\n",
       "      <td>3</td>\n",
       "      <td>2008-11-05</td>\n",
       "      <td>1</td>\n",
       "      <td>Regular</td>\n",
       "    </tr>\n",
       "    <tr>\n",
       "      <th>82</th>\n",
       "      <td>OKC</td>\n",
       "      <td>UTA</td>\n",
       "      <td>17.0</td>\n",
       "      <td>1.0</td>\n",
       "      <td>8.0</td>\n",
       "      <td>12.5</td>\n",
       "      <td>0.0</td>\n",
       "      <td>0.0</td>\n",
       "      <td>0.0</td>\n",
       "      <td>4.0</td>\n",
       "      <td>...</td>\n",
       "      <td>6.0</td>\n",
       "      <td>-5.0</td>\n",
       "      <td>2008</td>\n",
       "      <td>0</td>\n",
       "      <td>97</td>\n",
       "      <td>104</td>\n",
       "      <td>5</td>\n",
       "      <td>2008-11-07</td>\n",
       "      <td>1</td>\n",
       "      <td>Regular</td>\n",
       "    </tr>\n",
       "    <tr>\n",
       "      <th>...</th>\n",
       "      <td>...</td>\n",
       "      <td>...</td>\n",
       "      <td>...</td>\n",
       "      <td>...</td>\n",
       "      <td>...</td>\n",
       "      <td>...</td>\n",
       "      <td>...</td>\n",
       "      <td>...</td>\n",
       "      <td>...</td>\n",
       "      <td>...</td>\n",
       "      <td>...</td>\n",
       "      <td>...</td>\n",
       "      <td>...</td>\n",
       "      <td>...</td>\n",
       "      <td>...</td>\n",
       "      <td>...</td>\n",
       "      <td>...</td>\n",
       "      <td>...</td>\n",
       "      <td>...</td>\n",
       "      <td>...</td>\n",
       "      <td>...</td>\n",
       "    </tr>\n",
       "    <tr>\n",
       "      <th>1339</th>\n",
       "      <td>LAC</td>\n",
       "      <td>MEM</td>\n",
       "      <td>16.0</td>\n",
       "      <td>5.0</td>\n",
       "      <td>11.0</td>\n",
       "      <td>45.5</td>\n",
       "      <td>1.0</td>\n",
       "      <td>3.0</td>\n",
       "      <td>33.3</td>\n",
       "      <td>1.0</td>\n",
       "      <td>...</td>\n",
       "      <td>12.0</td>\n",
       "      <td>0.0</td>\n",
       "      <td>2024</td>\n",
       "      <td>1</td>\n",
       "      <td>128</td>\n",
       "      <td>119</td>\n",
       "      <td>5</td>\n",
       "      <td>2024-01-12</td>\n",
       "      <td>16</td>\n",
       "      <td>Regular</td>\n",
       "    </tr>\n",
       "    <tr>\n",
       "      <th>1338</th>\n",
       "      <td>LAC</td>\n",
       "      <td>MIN</td>\n",
       "      <td>29.0</td>\n",
       "      <td>3.0</td>\n",
       "      <td>8.0</td>\n",
       "      <td>37.5</td>\n",
       "      <td>2.0</td>\n",
       "      <td>2.0</td>\n",
       "      <td>100.0</td>\n",
       "      <td>4.0</td>\n",
       "      <td>...</td>\n",
       "      <td>12.0</td>\n",
       "      <td>2.0</td>\n",
       "      <td>2024</td>\n",
       "      <td>0</td>\n",
       "      <td>105</td>\n",
       "      <td>109</td>\n",
       "      <td>7</td>\n",
       "      <td>2024-01-14</td>\n",
       "      <td>16</td>\n",
       "      <td>Regular</td>\n",
       "    </tr>\n",
       "    <tr>\n",
       "      <th>1337</th>\n",
       "      <td>LAC</td>\n",
       "      <td>OKC</td>\n",
       "      <td>22.0</td>\n",
       "      <td>4.0</td>\n",
       "      <td>8.0</td>\n",
       "      <td>50.0</td>\n",
       "      <td>0.0</td>\n",
       "      <td>3.0</td>\n",
       "      <td>0.0</td>\n",
       "      <td>3.0</td>\n",
       "      <td>...</td>\n",
       "      <td>11.0</td>\n",
       "      <td>6.0</td>\n",
       "      <td>2024</td>\n",
       "      <td>1</td>\n",
       "      <td>128</td>\n",
       "      <td>117</td>\n",
       "      <td>2</td>\n",
       "      <td>2024-01-16</td>\n",
       "      <td>16</td>\n",
       "      <td>Regular</td>\n",
       "    </tr>\n",
       "    <tr>\n",
       "      <th>1336</th>\n",
       "      <td>LAC</td>\n",
       "      <td>BKN</td>\n",
       "      <td>31.0</td>\n",
       "      <td>10.0</td>\n",
       "      <td>16.0</td>\n",
       "      <td>62.5</td>\n",
       "      <td>1.0</td>\n",
       "      <td>2.0</td>\n",
       "      <td>50.0</td>\n",
       "      <td>2.0</td>\n",
       "      <td>...</td>\n",
       "      <td>23.0</td>\n",
       "      <td>22.0</td>\n",
       "      <td>2024</td>\n",
       "      <td>1</td>\n",
       "      <td>125</td>\n",
       "      <td>114</td>\n",
       "      <td>7</td>\n",
       "      <td>2024-01-21</td>\n",
       "      <td>16</td>\n",
       "      <td>Regular</td>\n",
       "    </tr>\n",
       "    <tr>\n",
       "      <th>1335</th>\n",
       "      <td>LAC</td>\n",
       "      <td>LAL</td>\n",
       "      <td>18.0</td>\n",
       "      <td>6.0</td>\n",
       "      <td>11.0</td>\n",
       "      <td>54.5</td>\n",
       "      <td>3.0</td>\n",
       "      <td>3.0</td>\n",
       "      <td>100.0</td>\n",
       "      <td>1.0</td>\n",
       "      <td>...</td>\n",
       "      <td>16.0</td>\n",
       "      <td>1.0</td>\n",
       "      <td>2024</td>\n",
       "      <td>1</td>\n",
       "      <td>127</td>\n",
       "      <td>116</td>\n",
       "      <td>2</td>\n",
       "      <td>2024-01-23</td>\n",
       "      <td>16</td>\n",
       "      <td>Regular</td>\n",
       "    </tr>\n",
       "  </tbody>\n",
       "</table>\n",
       "<p>1254 rows × 30 columns</p>\n",
       "</div>"
      ],
      "text/plain": [
       "     Team Opponent   Min   FGM   FGA   FG%  3PM  3PA    3P%  FTM  ...   PTS  \\\n",
       "87    OKC      MIL  22.0   4.0   9.0  44.4  1.0  2.0   50.0  4.0  ...  13.0   \n",
       "85    OKC      HOU  19.0   2.0   7.0  28.6  0.0  1.0    0.0  2.0  ...   6.0   \n",
       "84    OKC      MIN  25.0   6.0  13.0  46.2  0.0  1.0    0.0  2.0  ...  14.0   \n",
       "83    OKC      BOS  19.0   4.0  13.0  30.8  3.0  5.0   60.0  2.0  ...  13.0   \n",
       "82    OKC      UTA  17.0   1.0   8.0  12.5  0.0  0.0    0.0  4.0  ...   6.0   \n",
       "...   ...      ...   ...   ...   ...   ...  ...  ...    ...  ...  ...   ...   \n",
       "1339  LAC      MEM  16.0   5.0  11.0  45.5  1.0  3.0   33.3  1.0  ...  12.0   \n",
       "1338  LAC      MIN  29.0   3.0   8.0  37.5  2.0  2.0  100.0  4.0  ...  12.0   \n",
       "1337  LAC      OKC  22.0   4.0   8.0  50.0  0.0  3.0    0.0  3.0  ...  11.0   \n",
       "1336  LAC      BKN  31.0  10.0  16.0  62.5  1.0  2.0   50.0  2.0  ...  23.0   \n",
       "1335  LAC      LAL  18.0   6.0  11.0  54.5  3.0  3.0  100.0  1.0  ...  16.0   \n",
       "\n",
       "       +/-  Year  Win/Lose  Team score  Opponent score  DayOfWeek       date  \\\n",
       "87     5.0  2008         0          87              98          3 2008-10-29   \n",
       "85   -19.0  2008         0          77              89          6 2008-11-01   \n",
       "84     7.0  2008         1          88              85          7 2008-11-02   \n",
       "83    -3.0  2008         0          83              96          3 2008-11-05   \n",
       "82    -5.0  2008         0          97             104          5 2008-11-07   \n",
       "...    ...   ...       ...         ...             ...        ...        ...   \n",
       "1339   0.0  2024         1         128             119          5 2024-01-12   \n",
       "1338   2.0  2024         0         105             109          7 2024-01-14   \n",
       "1337   6.0  2024         1         128             117          2 2024-01-16   \n",
       "1336  22.0  2024         1         125             114          7 2024-01-21   \n",
       "1335   1.0  2024         1         127             116          2 2024-01-23   \n",
       "\n",
       "      Season  Game Type  \n",
       "87         1    Regular  \n",
       "85         1    Regular  \n",
       "84         1    Regular  \n",
       "83         1    Regular  \n",
       "82         1    Regular  \n",
       "...      ...        ...  \n",
       "1339      16    Regular  \n",
       "1338      16    Regular  \n",
       "1337      16    Regular  \n",
       "1336      16    Regular  \n",
       "1335      16    Regular  \n",
       "\n",
       "[1254 rows x 30 columns]"
      ]
     },
     "execution_count": 38,
     "metadata": {},
     "output_type": "execute_result"
    }
   ],
   "source": [
    "Russell_data['DayOfWeek'] = Russell_data['DayOfWeek'].map({'Mon': 1, 'Tue': 2, 'Wed': 3, 'Thu': 4, 'Fri': 5, 'Sat': 6, 'Sun': 7})\n",
    "Russell_data"
   ]
  },
  {
   "cell_type": "markdown",
   "metadata": {},
   "source": [
    "Create new CSV file\n"
   ]
  },
  {
   "cell_type": "code",
   "execution_count": 39,
   "metadata": {},
   "outputs": [],
   "source": [
    "Russell_data.to_csv('Reorgnized_RB.csv', index=False)"
   ]
  }
 ],
 "metadata": {
  "kernelspec": {
   "display_name": "base",
   "language": "python",
   "name": "python3"
  },
  "language_info": {
   "codemirror_mode": {
    "name": "ipython",
    "version": 3
   },
   "file_extension": ".py",
   "mimetype": "text/x-python",
   "name": "python",
   "nbconvert_exporter": "python",
   "pygments_lexer": "ipython3",
   "version": "3.9.13"
  }
 },
 "nbformat": 4,
 "nbformat_minor": 2
}
